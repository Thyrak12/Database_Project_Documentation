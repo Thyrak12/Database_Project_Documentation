{
 "cells": [
  {
   "cell_type": "code",
   "execution_count": 24,
   "metadata": {},
   "outputs": [],
   "source": [
    "# pip install mysql-connector-python\n",
    "# pip install PyMySQL"
   ]
  },
  {
   "cell_type": "markdown",
   "metadata": {},
   "source": [
    "## Backup"
   ]
  },
  {
   "cell_type": "code",
   "execution_count": 6,
   "metadata": {},
   "outputs": [
    {
     "name": "stdout",
     "output_type": "stream",
     "text": [
      "['mysqldump', '--host=localhost', '--user=root', '--password=', 'inventory_db', '--result-file=db_project_backup.sql']\n",
      "CompletedProcess(args=['mysqldump', '--host=localhost', '--user=root', '--password=', 'inventory_db', '--result-file=db_project_backup.sql'], returncode=0, stdout=b'', stderr=b'mysqldump: [Warning] Using a password on the command line interface can be insecure.\\r\\n-- Warning: column statistics not supported by the server.\\r\\n')\n",
      "Backup successful. File saved as db_project_backup.sql.\n"
     ]
    }
   ],
   "source": [
    "import subprocess\n",
    "\n",
    "def backup_database(host, user, password, db_name, output_file):\n",
    "    command = [\n",
    "        \"mysqldump\",\n",
    "        f\"--host={host}\",\n",
    "        f\"--user={user}\",\n",
    "        f\"--password={password}\",\n",
    "        db_name,\n",
    "        f\"--result-file={output_file}\"\n",
    "    ]\n",
    "    print(command)\n",
    "    \n",
    "    result = subprocess.run(command, stdout=subprocess.PIPE, stderr=subprocess.PIPE)\n",
    "    print(result)\n",
    "    \n",
    "    if result.returncode == 0:\n",
    "        print(f\"Backup successful. File saved as {output_file}.\")\n",
    "    else:\n",
    "        print(f\"Error: {result.stderr.decode('utf-8')}\")\n",
    "\n",
    "# Example usage\n",
    "backup_database(\"localhost\", \"root\", \"\", \"inventory_db\", \"db_project_backup.sql\")\n"
   ]
  },
  {
   "cell_type": "markdown",
   "metadata": {},
   "source": [
    "## Restore"
   ]
  },
  {
   "cell_type": "code",
   "execution_count": null,
   "metadata": {},
   "outputs": [
    {
     "name": "stdout",
     "output_type": "stream",
     "text": [
      "['mysql', '--host=localhost', '--user=root', '--password=', 'backup_database']\n"
     ]
    }
   ],
   "source": [
    "import subprocess\n",
    "\n",
    "def restore_database(host, user, password, db_name, input_file):\n",
    "    command = [\n",
    "        \"mysql\",\n",
    "        f\"--host={host}\",\n",
    "        f\"--user={user}\",\n",
    "        f\"--password={password}\",\n",
    "        db_name\n",
    "    ]\n",
    "    print(command)\n",
    "    \n",
    "    with open(input_file, \"r\") as infile:\n",
    "        result = subprocess.run(command, stdin=infile, stdout=subprocess.PIPE, stderr=subprocess.PIPE)\n",
    "    print(result)\n",
    "    \n",
    "    if result.returncode == 0:\n",
    "        print(f\"Restore successful from {input_file}.\")\n",
    "    else:\n",
    "        print(f\"Error: {result.stderr.decode('utf-8')}\")\n",
    "\n",
    "# Example usage\n",
    "restore_database(\"localhost\", \"root\", \"\", \"backup_database\", \"db_project_backup.sql\")\n"
   ]
  }
 ],
 "metadata": {
  "kernelspec": {
   "display_name": "Python 3",
   "language": "python",
   "name": "python3"
  },
  "language_info": {
   "codemirror_mode": {
    "name": "ipython",
    "version": 3
   },
   "file_extension": ".py",
   "mimetype": "text/x-python",
   "name": "python",
   "nbconvert_exporter": "python",
   "pygments_lexer": "ipython3",
   "version": "3.13.3"
  }
 },
 "nbformat": 4,
 "nbformat_minor": 2
}
